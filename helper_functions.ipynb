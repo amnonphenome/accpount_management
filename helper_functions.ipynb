{
 "cells": [
  {
   "cell_type": "markdown",
   "id": "277cf5ab",
   "metadata": {},
   "source": [
    "# helper functions"
   ]
  },
  {
   "cell_type": "code",
   "execution_count": null,
   "id": "9e78e2de",
   "metadata": {},
   "outputs": [],
   "source": [
    "def insert_into_db_account_management(df):\n",
    "    print(\"inserting..\")\n",
    "    return\n",
    "    "
   ]
  }
 ],
 "metadata": {
  "kernelspec": {
   "display_name": "Python 3 (ipykernel)",
   "language": "python",
   "name": "python3"
  },
  "language_info": {
   "codemirror_mode": {
    "name": "ipython",
    "version": 3
   },
   "file_extension": ".py",
   "mimetype": "text/x-python",
   "name": "python",
   "nbconvert_exporter": "python",
   "pygments_lexer": "ipython3",
   "version": "3.9.7"
  }
 },
 "nbformat": 4,
 "nbformat_minor": 5
}
